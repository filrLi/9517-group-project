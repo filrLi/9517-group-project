{
 "cells": [
  {
   "cell_type": "code",
   "execution_count": 1,
   "metadata": {},
   "outputs": [],
   "source": [
    "import cv2\n",
    "import numpy as np\n",
    "import os"
   ]
  },
  {
   "cell_type": "code",
   "execution_count": 2,
   "metadata": {},
   "outputs": [],
   "source": [
    "image_sequence_path = \"./data/sequence\""
   ]
  },
  {
   "cell_type": "code",
   "execution_count": 3,
   "metadata": {},
   "outputs": [],
   "source": [
    "yolo_weights_path = \"./yolov3/yolov3.weights\"\n",
    "yolo_config_path = \"./yolov3/yolov3.cfg\"\n",
    "\n",
    "net = cv2.dnn.readNetFromDarknet(yolo_config_path, yolo_weights_path)\n",
    "net.setPreferableBackend(cv2.dnn.DNN_BACKEND_OPENCV)\n",
    "net.setPreferableTarget(cv2.dnn.DNN_TARGET_CPU)\n",
    "\n",
    "layer_names = net.getLayerNames()\n",
    "layer_names = [layer_names[i[0] - 1] for i in net.getUnconnectedOutLayers()]\n",
    "\n",
    "labels = []\n",
    "labels_path = \"./yolov3/coco.names\"\n",
    "with open(labels_path, 'rt') as f:\n",
    "     labels = f.read().rstrip('\\n').split('\\n')\n",
    "        \n",
    "np.random.seed(42)\n",
    "label_colors = np.random.randint(0, 255, size=(len(labels), 3), dtype=\"uint8\")"
   ]
  },
  {
   "cell_type": "code",
   "execution_count": 4,
   "metadata": {},
   "outputs": [],
   "source": [
    "image = cv2.imread(\"./data/sequence/000001.jpg\")\n",
    "height, width, _ = image.shape\n",
    "\n",
    "blob = cv2.dnn.blobFromImage(image, 1/255.0, (416, 416), swapRB=True, crop=False)\n",
    "net.setInput(blob)\n",
    "layer_outputs = net.forward(layer_names)\n",
    "layer_outputs\n",
    "\n",
    "boxes = []\n",
    "confidences = []\n",
    "class_ids = []\n",
    "\n",
    "for output in layer_outputs:\n",
    "    for detection in output:\n",
    "        scores = detection[5:]\n",
    "        class_id = np.argmax(scores)\n",
    "        if labels[class_id] != \"person\":\n",
    "            continue\n",
    "            \n",
    "        confidence = scores[class_id]\n",
    "        if confidence > 0.5:\n",
    "            box = detection[0:4] * np.array([width, height, width, height])\n",
    "            center_x, center_y, box_width, box_height = box.astype(\"int\")            \n",
    "            x = int(center_x - box_width / 2)\n",
    "            y = int(center_y - box_height / 2)            \n",
    "            boxes.append([x, y, int(box_width), int(box_height)])\n",
    "            confidences.append(float(confidence))\n",
    "            class_ids.append(class_id)\n",
    "            \n",
    "indexes = cv2.dnn.NMSBoxes(boxes, confidences, 0.5, 0.4)"
   ]
  },
  {
   "cell_type": "code",
   "execution_count": 5,
   "metadata": {},
   "outputs": [
    {
     "data": {
      "text/plain": [
       "107"
      ]
     },
     "execution_count": 5,
     "metadata": {},
     "output_type": "execute_result"
    }
   ],
   "source": [
    "if len(indexes) > 0:\n",
    "    for i in indexes.flatten():\n",
    "        x, y = (boxes[i][0], boxes[i][1])\n",
    "        w, h = (boxes[i][2], boxes[i][3])\n",
    "        color = [int(c) for c in label_colors[class_ids[i]]]\n",
    "        cv2.rectangle(image, (x, y), (x + w, y + h), color, 2)\n",
    "        text = \"{}: {:.4f}\".format(labels[class_ids[i]], confidences[i])\n",
    "        cv2.putText(image, text, (x, y - 5), cv2.FONT_HERSHEY_SIMPLEX, 0.5, color, 2)\n",
    "\n",
    "cv2.imshow(\"Image\", image)\n",
    "cv2.waitKey(0)"
   ]
  },
  {
   "cell_type": "code",
   "execution_count": 21,
   "metadata": {},
   "outputs": [],
   "source": [
    "cap = cv2.VideoCapture(f\"{image_sequence_path}/%06d.jpg\", cv2.CAP_IMAGES)\n",
    "frame_width = int(cap.get(cv2.CAP_PROP_FRAME_WIDTH))\n",
    "frame_height = int(cap.get(cv2.CAP_PROP_FRAME_HEIGHT))\n",
    "fourcc = cv2.VideoWriter_fourcc(*'XVID')\n",
    "out = cv2.VideoWriter('video.avi', fourcc, 10.0, (frame_width*2, frame_height*2))\n",
    "while (cap.isOpened()):\n",
    "    ret, frame = cap.read()\n",
    "    if frame is None:\n",
    "        break\n",
    "    resized_frame = cv2.resize(frame, (frame_width*2, frame_height*2))\n",
    "    out.write(resized_frame)\n",
    "\n",
    "cap.release()\n",
    "out.release()\n",
    "cv2.destroyAllWindows()"
   ]
  },
  {
   "cell_type": "code",
   "execution_count": null,
   "metadata": {},
   "outputs": [],
   "source": []
  }
 ],
 "metadata": {
  "kernelspec": {
   "display_name": "Python 3",
   "language": "python",
   "name": "python3"
  },
  "language_info": {
   "codemirror_mode": {
    "name": "ipython",
    "version": 3
   },
   "file_extension": ".py",
   "mimetype": "text/x-python",
   "name": "python",
   "nbconvert_exporter": "python",
   "pygments_lexer": "ipython3",
   "version": "3.6.7"
  }
 },
 "nbformat": 4,
 "nbformat_minor": 4
}
